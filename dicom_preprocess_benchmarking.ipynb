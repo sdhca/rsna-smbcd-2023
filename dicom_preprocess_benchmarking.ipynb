{
 "cells": [
  {
   "cell_type": "markdown",
   "id": "207329f8-133c-4e19-bfcd-47b1b765e45f",
   "metadata": {},
   "source": [
    "# Setup"
   ]
  },
  {
   "cell_type": "code",
   "execution_count": null,
   "id": "03c9b961-3c89-4e35-8ddc-ad573daff533",
   "metadata": {},
   "outputs": [],
   "source": [
    "DESIRED_IMG_WIDTH=1024"
   ]
  },
  {
   "cell_type": "code",
   "execution_count": null,
   "id": "ed1858a9-71cf-47e7-98a9-95e7447aec04",
   "metadata": {},
   "outputs": [],
   "source": [
    "from pathlib import Path\n",
    "import pylibjpeg\n",
    "import gdcm\n",
    "import pydicom\n",
    "import fastcore.xtras\n",
    "import PIL\n",
    "from fastai.medical.imaging import *\n",
    "from tqdm.auto import tqdm"
   ]
  },
  {
   "cell_type": "markdown",
   "id": "66a2f466-b33f-41e5-9e0f-0fe8d411ffcc",
   "metadata": {},
   "source": [
    "# Find Images"
   ]
  },
  {
   "cell_type": "code",
   "execution_count": null,
   "id": "c00e1294-e896-431d-afc3-efbb0d63f293",
   "metadata": {},
   "outputs": [],
   "source": [
    "input_path = Path('train_images')\n",
    "output_path = Path('train_pngs_benchmarking')\n",
    "output_path.mkdir(parents=True, exist_ok=True)"
   ]
  },
  {
   "cell_type": "code",
   "execution_count": null,
   "id": "75d2d548-4e3e-4b4f-8789-bc59e279738c",
   "metadata": {},
   "outputs": [
    {
     "data": {
      "text/plain": [
       "(#27) [Path('train_images/21221'),Path('train_images/19334'),Path('train_images/26810'),Path('train_images/10514'),Path('train_images/17064'),Path('train_images/46113'),Path('train_images/58906'),Path('train_images/62679'),Path('train_images/27507'),Path('train_images/24167')...]"
      ]
     },
     "execution_count": null,
     "metadata": {},
     "output_type": "execute_result"
    }
   ],
   "source": [
    "input_path.ls()"
   ]
  },
  {
   "cell_type": "code",
   "execution_count": null,
   "id": "3f25ae7c-103c-44e3-b53b-0a50514a918c",
   "metadata": {},
   "outputs": [
    {
     "data": {
      "text/plain": [
       "(#128) [Path('train_images/21221/448741934.dcm'),Path('train_images/21221/1064888428.dcm'),Path('train_images/21221/282742387.dcm'),Path('train_images/21221/1236706393.dcm'),Path('train_images/21221/1580909504.dcm'),Path('train_images/21221/1821800285.dcm'),Path('train_images/19334/102489772.dcm'),Path('train_images/19334/949176137.dcm'),Path('train_images/19334/375445182.dcm'),Path('train_images/19334/2122421722.dcm')...]"
      ]
     },
     "execution_count": null,
     "metadata": {},
     "output_type": "execute_result"
    }
   ],
   "source": [
    "dcms = get_dicom_files(input_path)\n",
    "dcms"
   ]
  },
  {
   "cell_type": "markdown",
   "id": "6a7df94c-94ca-49bb-937a-3a798e2384f1",
   "metadata": {},
   "source": [
    "# Method 1\n",
    "Found while working on SIIM Covid-19 project."
   ]
  },
  {
   "cell_type": "code",
   "execution_count": null,
   "id": "44164d51-7f0f-409c-b5ef-fd0311d8333f",
   "metadata": {},
   "outputs": [],
   "source": [
    "# From https://www.kaggle.com/xhlulu/siim-covid-19-convert-to-jpg-256px\n",
    "# https://www.kaggle.com/code/stephenhudson/siim-covid-19-1-data-prep-test-data/notebook\n",
    "\n",
    "import numpy as np\n",
    "import pydicom\n",
    "import gdcm\n",
    "from pydicom.pixel_data_handlers.util import apply_voi_lut\n",
    "from PIL import Image\n",
    "\n",
    "def read_xray(path, voi_lut = True, fix_monochrome = True):\n",
    "    # Original from: https://www.kaggle.com/raddar/convert-dicom-to-np-array-the-correct-way\n",
    "    dicom = pydicom.read_file(path)\n",
    "    \n",
    "    # VOI LUT (if available by DICOM device) is used to transform raw DICOM data to \n",
    "    # \"human-friendly\" view\n",
    "    if voi_lut:\n",
    "        data = apply_voi_lut(dicom.pixel_array, dicom)\n",
    "    else:\n",
    "        data = dicom.pixel_array\n",
    "               \n",
    "    # depending on this value, X-ray may look inverted - fix that:\n",
    "    if fix_monochrome and dicom.PhotometricInterpretation == \"MONOCHROME1\":\n",
    "        data = np.amax(data) - data\n",
    "        \n",
    "    data = data - np.min(data)\n",
    "    data = data / np.max(data)\n",
    "    data = (data * 255).astype(np.uint8)\n",
    "            \n",
    "    return data\n",
    "\n",
    "def resize(array, size, keep_ratio=False, resample=Image.LANCZOS):\n",
    "    # Original from: https://www.kaggle.com/xhlulu/vinbigdata-process-and-resize-to-image\n",
    "    im = Image.fromarray(array)\n",
    "    \n",
    "    if keep_ratio:\n",
    "        im.thumbnail((size, size), resample)\n",
    "    else:\n",
    "        im = im.resize((size, size), resample)\n",
    "    \n",
    "    return im\n",
    "\n",
    "# from pqdm.processes import pqdm\n",
    "\n",
    "def resize_and_save(input_path, output_path, size, sub_dir='train_images'):\n",
    "    img = read_xray(input_path)\n",
    "    size2 = max(size, round(size*img.shape[0]/img.shape[1]))\n",
    "    img2 = resize(img, size=size2, keep_ratio=True)\n",
    "    index = input_path.parts.index(sub_dir)\n",
    "    png = output_path.joinpath(*input_path.parts[index:]).with_suffix('.png')\n",
    "    png.parent.mkdir(parents=True, exist_ok=True)\n",
    "    img2.save(png)"
   ]
  },
  {
   "cell_type": "code",
   "execution_count": null,
   "id": "096440fd-85a8-4643-a33c-6206a18c4870",
   "metadata": {},
   "outputs": [
    {
     "data": {
      "text/plain": [
       "'9.4.0'"
      ]
     },
     "execution_count": null,
     "metadata": {},
     "output_type": "execute_result"
    }
   ],
   "source": [
    "PIL.__version__"
   ]
  },
  {
   "cell_type": "code",
   "execution_count": null,
   "id": "355dd1c0-2afc-468d-a7d5-bd8d4859d3c2",
   "metadata": {},
   "outputs": [
    {
     "data": {
      "application/vnd.jupyter.widget-view+json": {
       "model_id": "e2c2392972e44b2e8c3103b854c5d52e",
       "version_major": 2,
       "version_minor": 0
      },
      "text/plain": [
       "Rescale training images:   0%|          | 0/128 [00:00<?, ?it/s]"
      ]
     },
     "metadata": {},
     "output_type": "display_data"
    },
    {
     "data": {
      "application/vnd.jupyter.widget-view+json": {
       "model_id": "9873523d8ab5407793f1fd9e4d3a07ec",
       "version_major": 2,
       "version_minor": 0
      },
      "text/plain": [
       "Rescale training images:   0%|          | 0/128 [00:00<?, ?it/s]"
      ]
     },
     "metadata": {},
     "output_type": "display_data"
    },
    {
     "data": {
      "application/vnd.jupyter.widget-view+json": {
       "model_id": "e058539eb6de4ca1a5ea354b6d6685fd",
       "version_major": 2,
       "version_minor": 0
      },
      "text/plain": [
       "Rescale training images:   0%|          | 0/128 [00:00<?, ?it/s]"
      ]
     },
     "metadata": {},
     "output_type": "display_data"
    },
    {
     "data": {
      "application/vnd.jupyter.widget-view+json": {
       "model_id": "9ad62cbd8a954926a10133c13d63829d",
       "version_major": 2,
       "version_minor": 0
      },
      "text/plain": [
       "Rescale training images:   0%|          | 0/128 [00:00<?, ?it/s]"
      ]
     },
     "metadata": {},
     "output_type": "display_data"
    },
    {
     "data": {
      "application/vnd.jupyter.widget-view+json": {
       "model_id": "267bfe813a9f46d8ad0bd325cb546e95",
       "version_major": 2,
       "version_minor": 0
      },
      "text/plain": [
       "Rescale training images:   0%|          | 0/128 [00:00<?, ?it/s]"
      ]
     },
     "metadata": {},
     "output_type": "display_data"
    },
    {
     "data": {
      "application/vnd.jupyter.widget-view+json": {
       "model_id": "9f2a3c7d281a4e07b0ad095c46aba27c",
       "version_major": 2,
       "version_minor": 0
      },
      "text/plain": [
       "Rescale training images:   0%|          | 0/128 [00:00<?, ?it/s]"
      ]
     },
     "metadata": {},
     "output_type": "display_data"
    },
    {
     "data": {
      "application/vnd.jupyter.widget-view+json": {
       "model_id": "0a4200bc99784a9086197588e0d8ae3f",
       "version_major": 2,
       "version_minor": 0
      },
      "text/plain": [
       "Rescale training images:   0%|          | 0/128 [00:00<?, ?it/s]"
      ]
     },
     "metadata": {},
     "output_type": "display_data"
    },
    {
     "data": {
      "application/vnd.jupyter.widget-view+json": {
       "model_id": "55cb364b69bd46de9aef805897217664",
       "version_major": 2,
       "version_minor": 0
      },
      "text/plain": [
       "Rescale training images:   0%|          | 0/128 [00:00<?, ?it/s]"
      ]
     },
     "metadata": {},
     "output_type": "display_data"
    },
    {
     "name": "stdout",
     "output_type": "stream",
     "text": [
      "2min 36s ± 1.31 s per loop (mean ± std. dev. of 7 runs, 1 loop each)\n"
     ]
    }
   ],
   "source": [
    "%%timeit\n",
    "for dcm in tqdm(dcms, desc='Rescale training images'):\n",
    "    resize_and_save(dcm, output_path, DESIRED_IMG_WIDTH)"
   ]
  },
  {
   "cell_type": "code",
   "execution_count": null,
   "id": "72dd1b41-7b53-4233-8c56-7537b69795f9",
   "metadata": {},
   "outputs": [],
   "source": []
  }
 ],
 "metadata": {
  "kernelspec": {
   "display_name": "Python 3 (ipykernel)",
   "language": "python",
   "name": "python3"
  }
 },
 "nbformat": 4,
 "nbformat_minor": 5
}
